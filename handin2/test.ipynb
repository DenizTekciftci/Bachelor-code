{
 "metadata": {
  "language_info": {
   "codemirror_mode": {
    "name": "ipython",
    "version": 3
   },
   "file_extension": ".py",
   "mimetype": "text/x-python",
   "name": "python",
   "nbconvert_exporter": "python",
   "pygments_lexer": "ipython3",
   "version": "3.7.1-final"
  },
  "orig_nbformat": 2,
  "kernelspec": {
   "name": "python3",
   "display_name": "Python 3.7.1 64-bit",
   "metadata": {
    "interpreter": {
     "hash": "64baf6e12fa74ba3947dbc3c642b3f5b6776d4430ad9da4d18276f6b7130f9be"
    }
   }
  }
 },
 "nbformat": 4,
 "nbformat_minor": 2,
 "cells": [
  {
   "cell_type": "code",
   "execution_count": 2,
   "metadata": {},
   "outputs": [],
   "source": [
    "from math import exp\n",
    "import cashMoneyFunctions as CMF\n",
    "import numpy as np\n",
    "import scipy.optimize as root\n",
    "import matplotlib.pyplot as plt\n",
    "import seaborn as sns\n",
    "import pandas as pd\n",
    "import MonteCarlo as MC\n",
    "import time\n",
    "sns.set()"
   ]
  },
  {
   "cell_type": "code",
   "execution_count": 3,
   "metadata": {},
   "outputs": [],
   "source": [
    "from out8 import bs"
   ]
  },
  {
   "cell_type": "code",
   "execution_count": 4,
   "metadata": {},
   "outputs": [
    {
     "output_type": "stream",
     "name": "stdout",
     "text": [
      "[0, 0.03125]\n"
     ]
    }
   ],
   "source": [
    "print(bs[0])"
   ]
  },
  {
   "cell_type": "code",
   "execution_count": 5,
   "metadata": {},
   "outputs": [
    {
     "output_type": "error",
     "ename": "TypeError",
     "evalue": "list indices must be integers or slices, not tuple",
     "traceback": [
      "\u001b[1;31m---------------------------------------------------------------------------\u001b[0m",
      "\u001b[1;31mTypeError\u001b[0m                                 Traceback (most recent call last)",
      "\u001b[1;32m<ipython-input-5-f3e8b30e8940>\u001b[0m in \u001b[0;36m<module>\u001b[1;34m\u001b[0m\n\u001b[1;32m----> 1\u001b[1;33m \u001b[0mbs\u001b[0m\u001b[1;33m[\u001b[0m\u001b[1;33m:\u001b[0m\u001b[1;33m,\u001b[0m\u001b[1;33m-\u001b[0m\u001b[1;36m1\u001b[0m\u001b[1;33m]\u001b[0m\u001b[1;33m\u001b[0m\u001b[1;33m\u001b[0m\u001b[0m\n\u001b[0m",
      "\u001b[1;31mTypeError\u001b[0m: list indices must be integers or slices, not tuple"
     ]
    }
   ],
   "source": [
    "bs[:,-1]"
   ]
  },
  {
   "cell_type": "code",
   "execution_count": 10,
   "metadata": {},
   "outputs": [
    {
     "output_type": "stream",
     "name": "stdout",
     "text": [
      "[[0, 0.03125], [0.3, 0.0304687], [0.6, 0.0296875], [0.9, 0.0289062], [1.2, 0.028125], [1.5, 0.0273437], [1.8, 0.0265625], [2.1, 0.0261719], [2.4, 0.0253906], [2.7, 0.0248047], [3, 0.0242187], [3.3, 0.0236328], [3.6, 0.0230469], [3.9, 0.0226562], [4.2, 0.021875], [4.5, 0.0214844], [4.8, 0.0210937], [5.1, 0.0203125], [5.4, 0.0199219], [5.7, 0.0195312], [6, 0.0191406], [6.3, 0.0185547], [6.6, 0.0179687], [6.9, 0.0175781], [7.2, 0.0171875], [7.5, 0.0167969], [7.8, 0.0164062], [8.1, 0.0160156], [8.4, 0.015625], [8.7, 0.0152344], [9, 0.0148437], [9.3, 0.0146484], [9.6, 0.0144531], [9.9, 0.0140625], [10.2, 0.0136719], [10.5, 0.0132812], [10.8, 0.0128906], [11.1, 0.0128906], [11.4, 0.0125], [11.7, 0.0121094], [12, 0.0117187], [12.3, 0.0117187], [12.6, 0.0113281], [12.9, 0.0109375], [13.2, 0.0109375], [13.5, 0.0105469], [13.8, 0.0105469], [14.1, 0.0101562], [14.4, 0.0101562], [14.7, 0.00976562], [15, 0.00976562], [15.3, 0.009375], [15.6, 0.009375], [15.9, 0.009375], [16.2, 0.00898437], [16.5, 0.00898437], [16.8, 0.00859375], [17.1, 0.00859375], [17.4, 0.00859375], [17.7, 0.00859375], [18, 0.0078125], [18.3, 0.0078125], [18.6, 0.0078125], [18.9, 0.0078125], [19.2, 0.0078125], [19.5, 0.0078125], [19.8, 0.00703125], [20.1, 0.00703125], [20.4, 0.00625], [20.7, 0.00625], [21, 0.00625], [21.3, 0.00625], [21.6, 0.00625], [21.9, 0.00625], [22.2, 0.00625], [22.5, 0.00625], [22.8, 0.00625], [23.1, 0.0046875], [23.4, 0.003125], [23.7, 0.003125], [24, -6.93889e-18], [24.3, -6.93889e-18], [24.6, -6.93889e-18], [24.9, -6.93889e-18], [25.2, -6.93889e-18], [25.5, -6.93889e-18], [25.8, -6.93889e-18], [26.1, -6.93889e-18], [26.4, -6.93889e-18], [26.7, -6.93889e-18], [27, -6.93889e-18], [27.3, -6.93889e-18], [27.6, -6.93889e-18], [27.9, -6.93889e-18], [28.2, -6.93889e-18], [28.5, -6.93889e-18], [28.8, -6.93889e-18], [29.1, -6.93889e-18], [29.4, -6.93889e-18], [29.7, -6.93889e-18]]\n"
     ]
    }
   ],
   "source": [
    "print(bs)"
   ]
  },
  {
   "cell_type": "code",
   "execution_count": null,
   "metadata": {},
   "outputs": [],
   "source": []
  }
 ]
}